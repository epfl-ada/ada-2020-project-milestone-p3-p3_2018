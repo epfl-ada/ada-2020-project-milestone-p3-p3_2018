{
 "cells": [
  {
   "cell_type": "markdown",
   "metadata": {},
   "source": [
    "# Regional Data Protection Regulation Impact on Chilling Effects Mitigation for Privacy-Sensitive Topics"
   ]
  },
  {
   "cell_type": "markdown",
   "metadata": {},
   "source": [
    "## Introduction\n",
    "\n",
    "bla bla"
   ]
  },
  {
   "cell_type": "code",
   "execution_count": 1,
   "metadata": {},
   "outputs": [],
   "source": [
    "# Imports\n",
    "import numpy as np\n",
    "import pandas as pd\n",
    "import matplotlib.pyplot as plt\n",
    "from matplotlib.offsetbox import OffsetImage,AnnotationBbox\n",
    "from PIL import Image"
   ]
  },
  {
   "cell_type": "markdown",
   "metadata": {},
   "source": [
    "## Origin of Pageviews\n",
    "\n",
    "In order to demonstrate the pertinence of studying ```de.wikipedia.org``` in the scope of GDPR impact, we will first take a brief look at the **geographic origin of the pageviews**. Unfortunately, such data is not present in the pageviews dataset we will use later in the scope of our study. As such, we will be using data coming directly from ```stats.wikimedia.org```, which give a monthly overview of the origin of pageviews to specific language versions of Wikipedia.\n",
    "\n",
    "GDPR affects the whole European Economic Area, not only the European Union. As such, we will highlight in our data pageviews from Germany, Austria, Switzerland, Liechtenstein (the four countries in the world where german is an official language), the rest of the EEA (UK is considered as being still part of the EEA in 2020), and finally the rest of the world. It is of note that *Switzerland is not part of the EEA*; however, since it is landlocked and all of its neighbours EEA members, and since GDPR-compliance is mandatory for selling digital services within the EEA, we can safely consider Switzerland to have been strongly impacted by GDPR too."
   ]
  },
  {
   "cell_type": "code",
   "execution_count": 2,
   "metadata": {},
   "outputs": [
    {
     "data": {
      "text/html": [
       "<div>\n",
       "<style scoped>\n",
       "    .dataframe tbody tr th:only-of-type {\n",
       "        vertical-align: middle;\n",
       "    }\n",
       "\n",
       "    .dataframe tbody tr th {\n",
       "        vertical-align: top;\n",
       "    }\n",
       "\n",
       "    .dataframe thead th {\n",
       "        text-align: right;\n",
       "    }\n",
       "</style>\n",
       "<table border=\"1\" class=\"dataframe\">\n",
       "  <thead>\n",
       "    <tr style=\"text-align: right;\">\n",
       "      <th></th>\n",
       "      <th>country</th>\n",
       "      <th>rank</th>\n",
       "      <th>timestamp</th>\n",
       "      <th>total.total</th>\n",
       "      <th>month</th>\n",
       "      <th>timeRange.start</th>\n",
       "      <th>timeRange.end</th>\n",
       "    </tr>\n",
       "  </thead>\n",
       "  <tbody>\n",
       "    <tr>\n",
       "      <th>0</th>\n",
       "      <td>DE</td>\n",
       "      <td>1</td>\n",
       "      <td>1604188800000</td>\n",
       "      <td>763220000</td>\n",
       "      <td>2020-11-01T00:00:00.000Z</td>\n",
       "      <td>2020-11-01T00:00:00.000Z</td>\n",
       "      <td>2020-12-01T00:00:00.000Z</td>\n",
       "    </tr>\n",
       "    <tr>\n",
       "      <th>1</th>\n",
       "      <td>AT</td>\n",
       "      <td>2</td>\n",
       "      <td>1604188800000</td>\n",
       "      <td>86708000</td>\n",
       "      <td>2020-11-01T00:00:00.000Z</td>\n",
       "      <td>2020-11-01T00:00:00.000Z</td>\n",
       "      <td>2020-12-01T00:00:00.000Z</td>\n",
       "    </tr>\n",
       "    <tr>\n",
       "      <th>2</th>\n",
       "      <td>CH</td>\n",
       "      <td>3</td>\n",
       "      <td>1604188800000</td>\n",
       "      <td>54637000</td>\n",
       "      <td>2020-11-01T00:00:00.000Z</td>\n",
       "      <td>2020-11-01T00:00:00.000Z</td>\n",
       "      <td>2020-12-01T00:00:00.000Z</td>\n",
       "    </tr>\n",
       "    <tr>\n",
       "      <th>3</th>\n",
       "      <td>US</td>\n",
       "      <td>4</td>\n",
       "      <td>1604188800000</td>\n",
       "      <td>8359000</td>\n",
       "      <td>2020-11-01T00:00:00.000Z</td>\n",
       "      <td>2020-11-01T00:00:00.000Z</td>\n",
       "      <td>2020-12-01T00:00:00.000Z</td>\n",
       "    </tr>\n",
       "    <tr>\n",
       "      <th>4</th>\n",
       "      <td>IT</td>\n",
       "      <td>5</td>\n",
       "      <td>1604188800000</td>\n",
       "      <td>4022000</td>\n",
       "      <td>2020-11-01T00:00:00.000Z</td>\n",
       "      <td>2020-11-01T00:00:00.000Z</td>\n",
       "      <td>2020-12-01T00:00:00.000Z</td>\n",
       "    </tr>\n",
       "  </tbody>\n",
       "</table>\n",
       "</div>"
      ],
      "text/plain": [
       "  country  rank      timestamp  total.total                     month  \\\n",
       "0      DE     1  1604188800000    763220000  2020-11-01T00:00:00.000Z   \n",
       "1      AT     2  1604188800000     86708000  2020-11-01T00:00:00.000Z   \n",
       "2      CH     3  1604188800000     54637000  2020-11-01T00:00:00.000Z   \n",
       "3      US     4  1604188800000      8359000  2020-11-01T00:00:00.000Z   \n",
       "4      IT     5  1604188800000      4022000  2020-11-01T00:00:00.000Z   \n",
       "\n",
       "            timeRange.start             timeRange.end  \n",
       "0  2020-11-01T00:00:00.000Z  2020-12-01T00:00:00.000Z  \n",
       "1  2020-11-01T00:00:00.000Z  2020-12-01T00:00:00.000Z  \n",
       "2  2020-11-01T00:00:00.000Z  2020-12-01T00:00:00.000Z  \n",
       "3  2020-11-01T00:00:00.000Z  2020-12-01T00:00:00.000Z  \n",
       "4  2020-11-01T00:00:00.000Z  2020-12-01T00:00:00.000Z  "
      ]
     },
     "execution_count": 2,
     "metadata": {},
     "output_type": "execute_result"
    }
   ],
   "source": [
    "# Opening data\n",
    "\n",
    "nov20 = pd.read_csv(\"data/11_2020.csv\")\n",
    "nov20.head()"
   ]
  },
  {
   "cell_type": "code",
   "execution_count": 3,
   "metadata": {
    "scrolled": true
   },
   "outputs": [],
   "source": [
    "# Creating country lists\n",
    "\n",
    "de   = ['DE'] # Germany\n",
    "at   = ['AT'] # Austria\n",
    "ch   = ['CH'] # Switzerland\n",
    "li   = ['LI'] # Liechtenstein\n",
    "eea  = ['BE', 'BG', 'HR', 'CY', 'CZ', 'DK', 'EE', 'FI', 'FR', 'EL', 'HU', 'IE', 'IT', 'LV',\n",
    "        'LT','LU','MT', 'NL', 'PL', 'PT', 'RO', 'SK', 'SI', 'ES', 'SE', 'NO', 'IS', 'GB'] # Rest of the EEA\n",
    "rest = set(nov20[~nov20['country'].isnull()][['country']].values.flatten()) \\\n",
    "            - set(de) - set(at) - set(ch) - set(li) - set(eea) # Rest of the world\n",
    "\n",
    "countries = [de, at, ch, li, eea, rest]"
   ]
  },
  {
   "cell_type": "code",
   "execution_count": 4,
   "metadata": {
    "scrolled": true
   },
   "outputs": [
    {
     "data": {
      "text/html": [
       "<div>\n",
       "<style scoped>\n",
       "    .dataframe tbody tr th:only-of-type {\n",
       "        vertical-align: middle;\n",
       "    }\n",
       "\n",
       "    .dataframe tbody tr th {\n",
       "        vertical-align: top;\n",
       "    }\n",
       "\n",
       "    .dataframe thead th {\n",
       "        text-align: right;\n",
       "    }\n",
       "</style>\n",
       "<table border=\"1\" class=\"dataframe\">\n",
       "  <thead>\n",
       "    <tr style=\"text-align: right;\">\n",
       "      <th></th>\n",
       "      <th>countries</th>\n",
       "      <th>Pageviews (2020)</th>\n",
       "    </tr>\n",
       "  </thead>\n",
       "  <tbody>\n",
       "    <tr>\n",
       "      <th>0</th>\n",
       "      <td>Germany</td>\n",
       "      <td>763220000</td>\n",
       "    </tr>\n",
       "    <tr>\n",
       "      <th>1</th>\n",
       "      <td>Austria</td>\n",
       "      <td>86708000</td>\n",
       "    </tr>\n",
       "    <tr>\n",
       "      <th>2</th>\n",
       "      <td>Switzerland</td>\n",
       "      <td>54637000</td>\n",
       "    </tr>\n",
       "    <tr>\n",
       "      <th>3</th>\n",
       "      <td>Liechtenstein</td>\n",
       "      <td>306000</td>\n",
       "    </tr>\n",
       "    <tr>\n",
       "      <th>4</th>\n",
       "      <td>Rest of the EEA</td>\n",
       "      <td>28822000</td>\n",
       "    </tr>\n",
       "    <tr>\n",
       "      <th>5</th>\n",
       "      <td>Rest of the World</td>\n",
       "      <td>22521000</td>\n",
       "    </tr>\n",
       "  </tbody>\n",
       "</table>\n",
       "</div>"
      ],
      "text/plain": [
       "           countries  Pageviews (2020)\n",
       "0            Germany         763220000\n",
       "1            Austria          86708000\n",
       "2        Switzerland          54637000\n",
       "3      Liechtenstein            306000\n",
       "4    Rest of the EEA          28822000\n",
       "5  Rest of the World          22521000"
      ]
     },
     "execution_count": 4,
     "metadata": {},
     "output_type": "execute_result"
    }
   ],
   "source": [
    "# Creating pageviews data\n",
    "\n",
    "pv_origins = pd.DataFrame({'countries':['Germany', 'Austria', 'Switzerland', 'Liechtenstein', 'Rest of the EEA', 'Rest of the World']})\n",
    "pv_origins['Pageviews (2020)'] = [nov20[nov20['country'].isin(country)][['total.total']].values.sum() for country in countries]\n",
    "pv_origins"
   ]
  },
  {
   "cell_type": "code",
   "execution_count": 5,
   "metadata": {},
   "outputs": [],
   "source": [
    "def get_flag(name):\n",
    "    path = \"res/{}.png\".format(name)\n",
    "    im = Image.open(path).resize((24,18))\n",
    "    im = im.convert(\"RGBA\")\n",
    "    return im\n",
    "\n",
    "def offset_image(coord, name, ax):\n",
    "    img = get_flag(name)\n",
    "    im = OffsetImage(img)\n",
    "    im.image.axes = ax\n",
    "\n",
    "    ab = AnnotationBbox(im, (0, coord),  xybox=(-18., 0.), frameon=False,\n",
    "                        xycoords='data',  boxcoords=\"offset points\", pad=0)\n",
    "\n",
    "    ax.add_artist(ab)\n",
    "    \n",
    "def add_flags(ax):\n",
    "    flags = ['DE', 'AT', 'CH', 'LI', 'EU', 'UN']\n",
    "    ax.tick_params(axis='y', which='major', pad=30)\n",
    "    for i, f in enumerate(flags):\n",
    "        offset_image(i, f, ax)\n",
    "        \n",
    "def add_prc(ax, values):\n",
    "    tot = values.sum()\n",
    "    for i, val in enumerate(values):\n",
    "        ax.text(val+1e7, i + 0.1, '{:.2f}%'.format(val/tot*100))"
   ]
  },
  {
   "cell_type": "code",
   "execution_count": 6,
   "metadata": {
    "scrolled": false
   },
   "outputs": [
    {
     "data": {
      "image/png": "[encoded data removed]",
      "text/plain": [
       "<Figure size 432x288 with 1 Axes>"
      ]
     },
     "metadata": {
      "needs_background": "light"
     },
     "output_type": "display_data"
    }
   ],
   "source": [
    "# Plotting data\n",
    "        \n",
    "ax = pv_origins.plot.barh('countries', 'Pageviews (2020)', color='darkred')\n",
    "ax.invert_yaxis()\n",
    "ax.set_xlim(right=1e9)\n",
    "add_flags(ax)\n",
    "add_prc(ax, pv_origins[['Pageviews (2020)']].values.flatten())"
   ]
  },
  {
   "cell_type": "markdown",
   "metadata": {},
   "source": [
    "We can easily see that **97.64% of total pageviews** on ```de.wikipedia.org``` indeed come from countries strongly affected by GDPR. However, as the month studied is in 2020, it would be possible that COVID-19 changes things as compared to before. As a comparison basis to check it is not the case, we will compare those numbers with the ones of November 2019."
   ]
  },
  {
   "cell_type": "code",
   "execution_count": 7,
   "metadata": {},
   "outputs": [
    {
     "data": {
      "image/png": "[encoded data removed]",
      "text/plain": [
       "<Figure size 432x288 with 1 Axes>"
      ]
     },
     "metadata": {
      "needs_background": "light"
     },
     "output_type": "display_data"
    }
   ],
   "source": [
    "nov19 = pd.read_csv(\"data/11_2019.csv\")\n",
    "pv_origins['Pageviews (2019)'] = [nov19[nov19['country'].isin(country)][['total.total']].values.sum() for country in countries]\n",
    "\n",
    "ax = pv_origins.plot.barh('countries', ['Pageviews (2019)','Pageviews (2020)'], color=['gold','darkred'])\n",
    "ax.invert_yaxis()\n",
    "ax.set_xlim(right=1e9)\n",
    "add_flags(ax)"
   ]
  },
  {
   "cell_type": "markdown",
   "metadata": {},
   "source": [
    "Even though there are a few more views from the rest of the world in 2019 as compared to 2020, it still represents a neglibible portion of those. Moreover, one can guess this rise in pageviews fron the rest of the world come from german-speaking people who travel abroad, and who could not in 2020 because of COVID. Since these people originally would come from GDPR-affected countries, it is reasonable to think they were affected by it. **From those data, we can make the reasonable assumption that nearly all pageviews to ```de.wikipedia.org``` come from GDPR-affected users.**"
   ]
  },
  {
   "cell_type": "code",
   "execution_count": null,
   "metadata": {},
   "outputs": [],
   "source": []
  }
 ],
 "metadata": {
  "kernelspec": {
   "display_name": "Python [conda env:ada] *",
   "language": "python",
   "name": "conda-env-ada-py"
  },
  "language_info": {
   "codemirror_mode": {
    "name": "ipython",
    "version": 3
   },
   "file_extension": ".py",
   "mimetype": "text/x-python",
   "name": "python",
   "nbconvert_exporter": "python",
   "pygments_lexer": "ipython3",
   "version": "3.8.5"
  }
 },
 "nbformat": 4,
 "nbformat_minor": 4
}
