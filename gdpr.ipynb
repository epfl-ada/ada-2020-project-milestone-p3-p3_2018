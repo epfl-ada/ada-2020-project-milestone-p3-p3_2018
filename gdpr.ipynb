{
 "cells": [
  {
   "cell_type": "markdown",
   "metadata": {},
   "source": [
    "# Regional Data Protection Regulation Impact on Personal Privacy Protection Concerns"
   ]
  },
  {
   "cell_type": "markdown",
   "metadata": {},
   "source": [
    "## Introduction\n",
    "\n",
    "On May 25th 2018, the General Data Protection Regulation (GDPR) comes into force in the European Union and the European Economic Area. This regulation is a cornerstone of the legal apparatus of privacy protection in Europe, and introduces a lot of new obligations for companies using their customers' personal data. But beyond regulation of the market, has this regulation helped the general public better understand privacy, and raised interest into how to protect it? This is the goal of our study.\n",
    "\n",
    "Namely, we ask the following question: has the introduction of GDPR induced european users to inform themselves about how to protect their own privacy?\n",
    "\n",
    "In order to answer this question, we will be studying pageviews on Wikipedia articles relative to privacy and personal data protection on `de.wikipedia.org`: are articles providing information on privacy protection visited more often from Europe after the introduction of GDPR?"
   ]
  },
  {
   "cell_type": "code",
   "execution_count": 1,
   "metadata": {},
   "outputs": [],
   "source": [
    "# Imports\n",
    "import numpy as np\n",
    "import pandas as pd\n",
    "import matplotlib.pyplot as plt\n",
    "from matplotlib.offsetbox import OffsetImage,AnnotationBbox\n",
    "from PIL import Image\n",
    "from datetime import datetime\n",
    "from sklearn import linear_model\n",
    "import seaborn as sns"
   ]
  },
  {
   "cell_type": "markdown",
   "metadata": {},
   "source": [
    "## Origin of Pageviews\n",
    "\n",
    "In order to demonstrate the pertinence of studying ```de.wikipedia.org``` in the scope of GDPR impact, we will first take a brief look at the **geographic origin of the pageviews**. Unfortunately, such data is not present in the pageviews dataset we will use later in the scope of our study. As such, we will be using data coming directly from ```stats.wikimedia.org```, which give a monthly overview of the origin of pageviews to specific language versions of Wikipedia.\n",
    "\n",
    "GDPR affects the whole European Economic Area, not only the European Union. As such, we will highlight in our data pageviews from Germany, Austria, Switzerland, Liechtenstein (the four countries in the world where german is an official language), the rest of the EEA (UK is considered as being still part of the EEA in 2020), and finally the rest of the world. It is of note that *Switzerland is not part of the EEA*; however, since it is landlocked and all of its neighbours EEA members, and since GDPR-compliance is mandatory for selling digital services within the EEA, we can safely consider Switzerland to have been strongly impacted by GDPR too."
   ]
  },
  {
   "cell_type": "code",
   "execution_count": 2,
   "metadata": {},
   "outputs": [
    {
     "data": {
      "text/html": [
       "<div>\n",
       "<style scoped>\n",
       "    .dataframe tbody tr th:only-of-type {\n",
       "        vertical-align: middle;\n",
       "    }\n",
       "\n",
       "    .dataframe tbody tr th {\n",
       "        vertical-align: top;\n",
       "    }\n",
       "\n",
       "    .dataframe thead th {\n",
       "        text-align: right;\n",
       "    }\n",
       "</style>\n",
       "<table border=\"1\" class=\"dataframe\">\n",
       "  <thead>\n",
       "    <tr style=\"text-align: right;\">\n",
       "      <th></th>\n",
       "      <th>country</th>\n",
       "      <th>rank</th>\n",
       "      <th>timestamp</th>\n",
       "      <th>total.total</th>\n",
       "      <th>month</th>\n",
       "      <th>timeRange.start</th>\n",
       "      <th>timeRange.end</th>\n",
       "    </tr>\n",
       "  </thead>\n",
       "  <tbody>\n",
       "    <tr>\n",
       "      <th>0</th>\n",
       "      <td>DE</td>\n",
       "      <td>1</td>\n",
       "      <td>1604188800000</td>\n",
       "      <td>763220000</td>\n",
       "      <td>2020-11-01T00:00:00.000Z</td>\n",
       "      <td>2020-11-01T00:00:00.000Z</td>\n",
       "      <td>2020-12-01T00:00:00.000Z</td>\n",
       "    </tr>\n",
       "    <tr>\n",
       "      <th>1</th>\n",
       "      <td>AT</td>\n",
       "      <td>2</td>\n",
       "      <td>1604188800000</td>\n",
       "      <td>86708000</td>\n",
       "      <td>2020-11-01T00:00:00.000Z</td>\n",
       "      <td>2020-11-01T00:00:00.000Z</td>\n",
       "      <td>2020-12-01T00:00:00.000Z</td>\n",
       "    </tr>\n",
       "    <tr>\n",
       "      <th>2</th>\n",
       "      <td>CH</td>\n",
       "      <td>3</td>\n",
       "      <td>1604188800000</td>\n",
       "      <td>54637000</td>\n",
       "      <td>2020-11-01T00:00:00.000Z</td>\n",
       "      <td>2020-11-01T00:00:00.000Z</td>\n",
       "      <td>2020-12-01T00:00:00.000Z</td>\n",
       "    </tr>\n",
       "    <tr>\n",
       "      <th>3</th>\n",
       "      <td>US</td>\n",
       "      <td>4</td>\n",
       "      <td>1604188800000</td>\n",
       "      <td>8359000</td>\n",
       "      <td>2020-11-01T00:00:00.000Z</td>\n",
       "      <td>2020-11-01T00:00:00.000Z</td>\n",
       "      <td>2020-12-01T00:00:00.000Z</td>\n",
       "    </tr>\n",
       "    <tr>\n",
       "      <th>4</th>\n",
       "      <td>IT</td>\n",
       "      <td>5</td>\n",
       "      <td>1604188800000</td>\n",
       "      <td>4022000</td>\n",
       "      <td>2020-11-01T00:00:00.000Z</td>\n",
       "      <td>2020-11-01T00:00:00.000Z</td>\n",
       "      <td>2020-12-01T00:00:00.000Z</td>\n",
       "    </tr>\n",
       "  </tbody>\n",
       "</table>\n",
       "</div>"
      ],
      "text/plain": [
       "  country  rank      timestamp  total.total                     month  \\\n",
       "0      DE     1  1604188800000    763220000  2020-11-01T00:00:00.000Z   \n",
       "1      AT     2  1604188800000     86708000  2020-11-01T00:00:00.000Z   \n",
       "2      CH     3  1604188800000     54637000  2020-11-01T00:00:00.000Z   \n",
       "3      US     4  1604188800000      8359000  2020-11-01T00:00:00.000Z   \n",
       "4      IT     5  1604188800000      4022000  2020-11-01T00:00:00.000Z   \n",
       "\n",
       "            timeRange.start             timeRange.end  \n",
       "0  2020-11-01T00:00:00.000Z  2020-12-01T00:00:00.000Z  \n",
       "1  2020-11-01T00:00:00.000Z  2020-12-01T00:00:00.000Z  \n",
       "2  2020-11-01T00:00:00.000Z  2020-12-01T00:00:00.000Z  \n",
       "3  2020-11-01T00:00:00.000Z  2020-12-01T00:00:00.000Z  \n",
       "4  2020-11-01T00:00:00.000Z  2020-12-01T00:00:00.000Z  "
      ]
     },
     "execution_count": 2,
     "metadata": {},
     "output_type": "execute_result"
    }
   ],
   "source": [
    "# Opening data\n",
    "\n",
    "nov20 = pd.read_csv(\"data/11_2020.csv\")\n",
    "nov20.head()"
   ]
  },
  {
   "cell_type": "code",
   "execution_count": 3,
   "metadata": {
    "scrolled": true
   },
   "outputs": [],
   "source": [
    "# Creating country lists\n",
    "\n",
    "de   = ['DE'] # Germany\n",
    "at   = ['AT'] # Austria\n",
    "ch   = ['CH'] # Switzerland\n",
    "li   = ['LI'] # Liechtenstein\n",
    "eea  = ['BE', 'BG', 'HR', 'CY', 'CZ', 'DK', 'EE', 'FI', 'FR', 'EL', 'HU', 'IE', 'IT', 'LV',\n",
    "        'LT','LU','MT', 'NL', 'PL', 'PT', 'RO', 'SK', 'SI', 'ES', 'SE', 'NO', 'IS', 'GB'] # Rest of the EEA\n",
    "rest = set(nov20[~nov20['country'].isnull()][['country']].values.flatten()) \\\n",
    "            - set(de) - set(at) - set(ch) - set(li) - set(eea) # Rest of the world\n",
    "\n",
    "countries = [de, at, ch, li, eea, rest]"
   ]
  },
  {
   "cell_type": "code",
   "execution_count": 4,
   "metadata": {
    "scrolled": true
   },
   "outputs": [
    {
     "data": {
      "text/html": [
       "<div>\n",
       "<style scoped>\n",
       "    .dataframe tbody tr th:only-of-type {\n",
       "        vertical-align: middle;\n",
       "    }\n",
       "\n",
       "    .dataframe tbody tr th {\n",
       "        vertical-align: top;\n",
       "    }\n",
       "\n",
       "    .dataframe thead th {\n",
       "        text-align: right;\n",
       "    }\n",
       "</style>\n",
       "<table border=\"1\" class=\"dataframe\">\n",
       "  <thead>\n",
       "    <tr style=\"text-align: right;\">\n",
       "      <th></th>\n",
       "      <th>countries</th>\n",
       "      <th>Pageviews (2020)</th>\n",
       "    </tr>\n",
       "  </thead>\n",
       "  <tbody>\n",
       "    <tr>\n",
       "      <th>0</th>\n",
       "      <td>Germany</td>\n",
       "      <td>763220000</td>\n",
       "    </tr>\n",
       "    <tr>\n",
       "      <th>1</th>\n",
       "      <td>Austria</td>\n",
       "      <td>86708000</td>\n",
       "    </tr>\n",
       "    <tr>\n",
       "      <th>2</th>\n",
       "      <td>Switzerland</td>\n",
       "      <td>54637000</td>\n",
       "    </tr>\n",
       "    <tr>\n",
       "      <th>3</th>\n",
       "      <td>Liechtenstein</td>\n",
       "      <td>306000</td>\n",
       "    </tr>\n",
       "    <tr>\n",
       "      <th>4</th>\n",
       "      <td>Rest of the EEA</td>\n",
       "      <td>28822000</td>\n",
       "    </tr>\n",
       "    <tr>\n",
       "      <th>5</th>\n",
       "      <td>Rest of the World</td>\n",
       "      <td>22521000</td>\n",
       "    </tr>\n",
       "  </tbody>\n",
       "</table>\n",
       "</div>"
      ],
      "text/plain": [
       "           countries  Pageviews (2020)\n",
       "0            Germany         763220000\n",
       "1            Austria          86708000\n",
       "2        Switzerland          54637000\n",
       "3      Liechtenstein            306000\n",
       "4    Rest of the EEA          28822000\n",
       "5  Rest of the World          22521000"
      ]
     },
     "execution_count": 4,
     "metadata": {},
     "output_type": "execute_result"
    }
   ],
   "source": [
    "# Creating pageviews data\n",
    "\n",
    "pv_origins = pd.DataFrame({'countries':['Germany', 'Austria', 'Switzerland', 'Liechtenstein', 'Rest of the EEA', 'Rest of the World']})\n",
    "pv_origins['Pageviews (2020)'] = [nov20[nov20['country'].isin(country)][['total.total']].values.sum() for country in countries]\n",
    "pv_origins"
   ]
  },
  {
   "cell_type": "code",
   "execution_count": 5,
   "metadata": {},
   "outputs": [],
   "source": [
    "def get_flag(name):\n",
    "    path = \"res/{}.png\".format(name)\n",
    "    im = Image.open(path).resize((24,18))\n",
    "    im = im.convert(\"RGBA\")\n",
    "    return im\n",
    "\n",
    "def offset_image(coord, name, ax):\n",
    "    img = get_flag(name)\n",
    "    im = OffsetImage(img)\n",
    "    im.image.axes = ax\n",
    "\n",
    "    ab = AnnotationBbox(im, (0, coord),  xybox=(-18., 0.), frameon=False,\n",
    "                        xycoords='data',  boxcoords=\"offset points\", pad=0)\n",
    "\n",
    "    ax.add_artist(ab)\n",
    "    \n",
    "def add_flags(ax):\n",
    "    flags = ['DE', 'AT', 'CH', 'LI', 'EU', 'UN']\n",
    "    ax.tick_params(axis='y', which='major', pad=30)\n",
    "    for i, f in enumerate(flags):\n",
    "        offset_image(i, f, ax)\n",
    "        \n",
    "def add_prc(ax, values):\n",
    "    tot = values.sum()\n",
    "    for i, val in enumerate(values):\n",
    "        ax.text(val+1e7, i + 0.1, '{:.2f}%'.format(val/tot*100))"
   ]
  },
  {
   "cell_type": "code",
   "execution_count": 6,
   "metadata": {
    "scrolled": false
   },
   "outputs": [
    {
     "data": {
      "image/png": "[encoded data removed]",
      "text/plain": [
       "<Figure size 432x288 with 1 Axes>"
      ]
     },
     "metadata": {
      "needs_background": "light"
     },
     "output_type": "display_data"
    }
   ],
   "source": [
    "# Plotting data\n",
    "        \n",
    "ax = pv_origins.plot.barh('countries', 'Pageviews (2020)', color='darkred')\n",
    "ax.invert_yaxis()\n",
    "ax.set_xlim(right=1e9)\n",
    "add_flags(ax)\n",
    "add_prc(ax, pv_origins[['Pageviews (2020)']].values.flatten())"
   ]
  },
  {
   "cell_type": "markdown",
   "metadata": {},
   "source": [
    "We can easily see that **97.64% of total pageviews** on ```de.wikipedia.org``` indeed come from countries strongly affected by GDPR. However, as the month studied is in 2020, it would be possible that COVID-19 changes things as compared to before. As a comparison basis to check it is not the case, we will compare those numbers with the ones of November 2019."
   ]
  },
  {
   "cell_type": "code",
   "execution_count": 7,
   "metadata": {},
   "outputs": [
    {
     "data": {
      "image/png": "[encoded data removed]",
      "text/plain": [
       "<Figure size 432x288 with 1 Axes>"
      ]
     },
     "metadata": {
      "needs_background": "light"
     },
     "output_type": "display_data"
    }
   ],
   "source": [
    "nov19 = pd.read_csv(\"data/11_2019.csv\")\n",
    "pv_origins['Pageviews (2019)'] = [nov19[nov19['country'].isin(country)][['total.total']].values.sum() for country in countries]\n",
    "\n",
    "ax = pv_origins.plot.barh('countries', ['Pageviews (2019)','Pageviews (2020)'], color=['gold','darkred'])\n",
    "ax.invert_yaxis()\n",
    "ax.set_xlim(right=1e9)\n",
    "add_flags(ax)"
   ]
  },
  {
   "cell_type": "markdown",
   "metadata": {},
   "source": [
    "Even though there are a few more views from the rest of the world in 2019 as compared to 2020, it still represents a neglibible portion of those. Moreover, one can guess this rise in pageviews fron the rest of the world come from german-speaking people who travel abroad, and who could not in 2020 because of COVID. Since these people originally would come from GDPR-affected countries, it is reasonable to think they were affected by it. **From those data, we can make the reasonable assumption that nearly all pageviews to ```de.wikipedia.org``` come from GDPR-affected users.**"
   ]
  },
  {
   "cell_type": "markdown",
   "metadata": {},
   "source": [
    "## Choosing articles\n",
    "\n",
    "Now that we know that using the German version of Wikipedia is relevant for our study, we have to select a subset of articles that is relevant to show whether GDPR entering into forced has caused a raise in interest for privacy protection in EU citizens.\n",
    "\n",
    "We first wanted to isolate a first subset of articles that might be pertinent for our study: for that, we simply selected articles that were linked inside the GDPR Wikipedia article. Unfortunately, for the German version of the article, most linked articles were not abour privacy, but rather about European lawmaking. Since it clearly did not fit our goal, we privileged selecting links in the English article for which a German translation existed. The subset of 111 articles it yielded was indeed much more pertinent.\n",
    "\n",
    "But some of them still were not relevant at all for our study. In order to filter them out, we used a crowdsourcing approach: we asked 13 test subjects to grade every article between 1 (not relevant) and 5 (very relevant) based on the following question: \"*Which of these Wikipedia articles would you most likely consult to inform yourself on the protection of your personal data online?*\""
   ]
  },
  {
   "cell_type": "markdown",
   "metadata": {},
   "source": [
    "## Loading data\n",
    "\n",
    "To find the data, we used the Wikipedia REST API (https://wikimedia.org/api/rest_v1/#/Pageviews%20data), which provides access to Wikimedia content and data, including pageviews.\n",
    "\n",
    "Some of the pages linked could not be loaded, most of them because there was no data during the epoch (page created afterward), and one because a problem with finding it in the API."
   ]
  },
  {
   "cell_type": "code",
   "execution_count": 16,
   "metadata": {
    "scrolled": true
   },
   "outputs": [
    {
     "data": {
      "text/html": [
       "<div>\n",
       "<style scoped>\n",
       "    .dataframe tbody tr th:only-of-type {\n",
       "        vertical-align: middle;\n",
       "    }\n",
       "\n",
       "    .dataframe tbody tr th {\n",
       "        vertical-align: top;\n",
       "    }\n",
       "\n",
       "    .dataframe thead th {\n",
       "        text-align: right;\n",
       "    }\n",
       "</style>\n",
       "<table border=\"1\" class=\"dataframe\">\n",
       "  <thead>\n",
       "    <tr style=\"text-align: right;\">\n",
       "      <th></th>\n",
       "      <th>article</th>\n",
       "      <th>timestamp</th>\n",
       "      <th>views</th>\n",
       "      <th>rating</th>\n",
       "    </tr>\n",
       "  </thead>\n",
       "  <tbody>\n",
       "    <tr>\n",
       "      <th>436</th>\n",
       "      <td>Children’s_Online_Privacy_Protection_Act</td>\n",
       "      <td>2015-08-01</td>\n",
       "      <td>102</td>\n",
       "      <td>3.31</td>\n",
       "    </tr>\n",
       "    <tr>\n",
       "      <th>932</th>\n",
       "      <td>Cyberattacke</td>\n",
       "      <td>2017-05-01</td>\n",
       "      <td>4061</td>\n",
       "      <td>2.62</td>\n",
       "    </tr>\n",
       "    <tr>\n",
       "      <th>10</th>\n",
       "      <td>Datenschutzrecht</td>\n",
       "      <td>2016-05-01</td>\n",
       "      <td>1431</td>\n",
       "      <td>4.23</td>\n",
       "    </tr>\n",
       "    <tr>\n",
       "      <th>1949</th>\n",
       "      <td>Europäische_Kommission</td>\n",
       "      <td>2016-08-01</td>\n",
       "      <td>10378</td>\n",
       "      <td>1.77</td>\n",
       "    </tr>\n",
       "    <tr>\n",
       "      <th>2353</th>\n",
       "      <td>Klout</td>\n",
       "      <td>2016-03-01</td>\n",
       "      <td>688</td>\n",
       "      <td>1.54</td>\n",
       "    </tr>\n",
       "  </tbody>\n",
       "</table>\n",
       "</div>"
      ],
      "text/plain": [
       "                                       article  timestamp  views  rating\n",
       "436   Children’s_Online_Privacy_Protection_Act 2015-08-01    102    3.31\n",
       "932                               Cyberattacke 2017-05-01   4061    2.62\n",
       "10                            Datenschutzrecht 2016-05-01   1431    4.23\n",
       "1949                    Europäische_Kommission 2016-08-01  10378    1.77\n",
       "2353                                     Klout 2016-03-01    688    1.54"
      ]
     },
     "execution_count": 16,
     "metadata": {},
     "output_type": "execute_result"
    }
   ],
   "source": [
    "MONTHS = 28\n",
    "\n",
    "def read_json_file(file_name, show_steps=False):\n",
    "\n",
    "    df = pd.read_json(file_name, convert_dates=False)\n",
    "\n",
    "    # Manually convert dates\n",
    "    df.loc[:,'timestamp'] = df.loc[:,'timestamp'].apply(lambda x: datetime(int(str(x)[:4]), int(str(x)[4:6]), int(str(x)[6:8])))\n",
    "    if show_steps:\n",
    "        print('Convert dates:')\n",
    "        display(df.sample(5))\n",
    "\n",
    "    # Drop useless columns\n",
    "    df = df.drop(['project', 'granularity', 'access', 'agent'], axis=1)\n",
    "    if show_steps:\n",
    "        print('Drop useless columns:')\n",
    "        display(df.sample(5))\n",
    "        \n",
    "    # Drop articles that have data during only a subset of the period\n",
    "    for a in set(df.article):\n",
    "        if len(df.loc[(df.article == a)]) < 28:\n",
    "            df = df.loc[(df.article != a)]\n",
    "\n",
    "    return df\n",
    "\n",
    "df = read_json_file('data/pageviews.json')\n",
    "df.sample(5)"
   ]
  },
  {
   "cell_type": "code",
   "execution_count": 18,
   "metadata": {},
   "outputs": [
    {
     "name": "stdout",
     "output_type": "stream",
     "text": [
      "Data contains 95 articles and 28 monthly pageview counts\n"
     ]
    },
    {
     "data": {
      "text/html": [
       "<div>\n",
       "<style scoped>\n",
       "    .dataframe tbody tr th:only-of-type {\n",
       "        vertical-align: middle;\n",
       "    }\n",
       "\n",
       "    .dataframe tbody tr th {\n",
       "        vertical-align: top;\n",
       "    }\n",
       "\n",
       "    .dataframe thead th {\n",
       "        text-align: right;\n",
       "    }\n",
       "</style>\n",
       "<table border=\"1\" class=\"dataframe\">\n",
       "  <thead>\n",
       "    <tr style=\"text-align: right;\">\n",
       "      <th>timestamp</th>\n",
       "      <th>2015-07-01</th>\n",
       "      <th>2015-08-01</th>\n",
       "      <th>2015-09-01</th>\n",
       "      <th>2015-10-01</th>\n",
       "      <th>2015-11-01</th>\n",
       "      <th>2015-12-01</th>\n",
       "      <th>2016-01-01</th>\n",
       "      <th>2016-02-01</th>\n",
       "      <th>2016-03-01</th>\n",
       "      <th>2016-04-01</th>\n",
       "      <th>...</th>\n",
       "      <th>2017-01-01</th>\n",
       "      <th>2017-02-01</th>\n",
       "      <th>2017-03-01</th>\n",
       "      <th>2017-04-01</th>\n",
       "      <th>2017-05-01</th>\n",
       "      <th>2017-06-01</th>\n",
       "      <th>2017-07-01</th>\n",
       "      <th>2017-08-01</th>\n",
       "      <th>2017-09-01</th>\n",
       "      <th>2017-10-01</th>\n",
       "    </tr>\n",
       "    <tr>\n",
       "      <th>article</th>\n",
       "      <th></th>\n",
       "      <th></th>\n",
       "      <th></th>\n",
       "      <th></th>\n",
       "      <th></th>\n",
       "      <th></th>\n",
       "      <th></th>\n",
       "      <th></th>\n",
       "      <th></th>\n",
       "      <th></th>\n",
       "      <th></th>\n",
       "      <th></th>\n",
       "      <th></th>\n",
       "      <th></th>\n",
       "      <th></th>\n",
       "      <th></th>\n",
       "      <th></th>\n",
       "      <th></th>\n",
       "      <th></th>\n",
       "      <th></th>\n",
       "      <th></th>\n",
       "    </tr>\n",
       "  </thead>\n",
       "  <tbody>\n",
       "    <tr>\n",
       "      <th>Datenschutz-Grundverordnung</th>\n",
       "      <td>2822</td>\n",
       "      <td>2458</td>\n",
       "      <td>3100</td>\n",
       "      <td>3657</td>\n",
       "      <td>3867</td>\n",
       "      <td>5262</td>\n",
       "      <td>6732</td>\n",
       "      <td>5399</td>\n",
       "      <td>5244</td>\n",
       "      <td>7514</td>\n",
       "      <td>...</td>\n",
       "      <td>11106</td>\n",
       "      <td>12769</td>\n",
       "      <td>16086</td>\n",
       "      <td>12814</td>\n",
       "      <td>17208</td>\n",
       "      <td>17728</td>\n",
       "      <td>18724</td>\n",
       "      <td>19664</td>\n",
       "      <td>25843</td>\n",
       "      <td>28921</td>\n",
       "    </tr>\n",
       "    <tr>\n",
       "      <th>Richtlinie_(EU)</th>\n",
       "      <td>6811</td>\n",
       "      <td>4998</td>\n",
       "      <td>6426</td>\n",
       "      <td>7523</td>\n",
       "      <td>8132</td>\n",
       "      <td>5975</td>\n",
       "      <td>8524</td>\n",
       "      <td>8268</td>\n",
       "      <td>7368</td>\n",
       "      <td>7675</td>\n",
       "      <td>...</td>\n",
       "      <td>8799</td>\n",
       "      <td>7695</td>\n",
       "      <td>8575</td>\n",
       "      <td>5943</td>\n",
       "      <td>7228</td>\n",
       "      <td>6704</td>\n",
       "      <td>6120</td>\n",
       "      <td>5309</td>\n",
       "      <td>6047</td>\n",
       "      <td>6703</td>\n",
       "    </tr>\n",
       "    <tr>\n",
       "      <th>Cloud_Computing</th>\n",
       "      <td>22516</td>\n",
       "      <td>18164</td>\n",
       "      <td>20466</td>\n",
       "      <td>24813</td>\n",
       "      <td>27115</td>\n",
       "      <td>22388</td>\n",
       "      <td>27302</td>\n",
       "      <td>25611</td>\n",
       "      <td>25454</td>\n",
       "      <td>25759</td>\n",
       "      <td>...</td>\n",
       "      <td>26107</td>\n",
       "      <td>21285</td>\n",
       "      <td>24625</td>\n",
       "      <td>19980</td>\n",
       "      <td>22043</td>\n",
       "      <td>17525</td>\n",
       "      <td>16747</td>\n",
       "      <td>14234</td>\n",
       "      <td>15974</td>\n",
       "      <td>18286</td>\n",
       "    </tr>\n",
       "    <tr>\n",
       "      <th>Datenvernichtung</th>\n",
       "      <td>288</td>\n",
       "      <td>288</td>\n",
       "      <td>334</td>\n",
       "      <td>372</td>\n",
       "      <td>399</td>\n",
       "      <td>350</td>\n",
       "      <td>453</td>\n",
       "      <td>389</td>\n",
       "      <td>412</td>\n",
       "      <td>387</td>\n",
       "      <td>...</td>\n",
       "      <td>410</td>\n",
       "      <td>421</td>\n",
       "      <td>527</td>\n",
       "      <td>396</td>\n",
       "      <td>415</td>\n",
       "      <td>398</td>\n",
       "      <td>421</td>\n",
       "      <td>349</td>\n",
       "      <td>380</td>\n",
       "      <td>327</td>\n",
       "    </tr>\n",
       "    <tr>\n",
       "      <th>Tribunal</th>\n",
       "      <td>5391</td>\n",
       "      <td>1771</td>\n",
       "      <td>2011</td>\n",
       "      <td>3783</td>\n",
       "      <td>3218</td>\n",
       "      <td>1978</td>\n",
       "      <td>2350</td>\n",
       "      <td>2426</td>\n",
       "      <td>2515</td>\n",
       "      <td>2045</td>\n",
       "      <td>...</td>\n",
       "      <td>1467</td>\n",
       "      <td>1356</td>\n",
       "      <td>2399</td>\n",
       "      <td>1159</td>\n",
       "      <td>1561</td>\n",
       "      <td>1345</td>\n",
       "      <td>1321</td>\n",
       "      <td>1238</td>\n",
       "      <td>1246</td>\n",
       "      <td>1892</td>\n",
       "    </tr>\n",
       "  </tbody>\n",
       "</table>\n",
       "<p>5 rows × 28 columns</p>\n",
       "</div>"
      ],
      "text/plain": [
       "timestamp                    2015-07-01  2015-08-01  2015-09-01  2015-10-01  \\\n",
       "article                                                                       \n",
       "Datenschutz-Grundverordnung        2822        2458        3100        3657   \n",
       "Richtlinie_(EU)                    6811        4998        6426        7523   \n",
       "Cloud_Computing                   22516       18164       20466       24813   \n",
       "Datenvernichtung                    288         288         334         372   \n",
       "Tribunal                           5391        1771        2011        3783   \n",
       "\n",
       "timestamp                    2015-11-01  2015-12-01  2016-01-01  2016-02-01  \\\n",
       "article                                                                       \n",
       "Datenschutz-Grundverordnung        3867        5262        6732        5399   \n",
       "Richtlinie_(EU)                    8132        5975        8524        8268   \n",
       "Cloud_Computing                   27115       22388       27302       25611   \n",
       "Datenvernichtung                    399         350         453         389   \n",
       "Tribunal                           3218        1978        2350        2426   \n",
       "\n",
       "timestamp                    2016-03-01  2016-04-01  ...  2017-01-01  \\\n",
       "article                                              ...               \n",
       "Datenschutz-Grundverordnung        5244        7514  ...       11106   \n",
       "Richtlinie_(EU)                    7368        7675  ...        8799   \n",
       "Cloud_Computing                   25454       25759  ...       26107   \n",
       "Datenvernichtung                    412         387  ...         410   \n",
       "Tribunal                           2515        2045  ...        1467   \n",
       "\n",
       "timestamp                    2017-02-01  2017-03-01  2017-04-01  2017-05-01  \\\n",
       "article                                                                       \n",
       "Datenschutz-Grundverordnung       12769       16086       12814       17208   \n",
       "Richtlinie_(EU)                    7695        8575        5943        7228   \n",
       "Cloud_Computing                   21285       24625       19980       22043   \n",
       "Datenvernichtung                    421         527         396         415   \n",
       "Tribunal                           1356        2399        1159        1561   \n",
       "\n",
       "timestamp                    2017-06-01  2017-07-01  2017-08-01  2017-09-01  \\\n",
       "article                                                                       \n",
       "Datenschutz-Grundverordnung       17728       18724       19664       25843   \n",
       "Richtlinie_(EU)                    6704        6120        5309        6047   \n",
       "Cloud_Computing                   17525       16747       14234       15974   \n",
       "Datenvernichtung                    398         421         349         380   \n",
       "Tribunal                           1345        1321        1238        1246   \n",
       "\n",
       "timestamp                    2017-10-01  \n",
       "article                                  \n",
       "Datenschutz-Grundverordnung       28921  \n",
       "Richtlinie_(EU)                    6703  \n",
       "Cloud_Computing                   18286  \n",
       "Datenvernichtung                    327  \n",
       "Tribunal                           1892  \n",
       "\n",
       "[5 rows x 28 columns]"
      ]
     },
     "execution_count": 18,
     "metadata": {},
     "output_type": "execute_result"
    }
   ],
   "source": [
    "def to_monthly_pv(df):\n",
    "    df = df.pivot(index='article', columns='timestamp', values='views')\n",
    "    print(\"Data contains {} articles and {} monthly pageview counts\".format(df.shape[0], df.shape[1])) \n",
    "    return df\n",
    "\n",
    "monthly_pv = to_monthly_pv(df)\n",
    "monthly_pv.sample(5)"
   ]
  },
  {
   "cell_type": "markdown",
   "metadata": {},
   "source": [
    "## Removing outliers\n",
    "\n",
    "After having had a few issues relative to data collection, we still have more than enough articles left with a total of 95. Before separating them with regard to their ratings (see later), we will remove outliers form our data."
   ]
  },
  {
   "cell_type": "code",
   "execution_count": 9,
   "metadata": {},
   "outputs": [
    {
     "data": {
      "image/png": "[encoded data removed]",
      "text/plain": [
       "<Figure size 1008x576 with 1 Axes>"
      ]
     },
     "metadata": {
      "needs_background": "light"
     },
     "output_type": "display_data"
    }
   ],
   "source": [
    "def scatter_plot_base_figure():\n",
    "    plt.figure(figsize=(14,8))\n",
    "\n",
    "    plt.xticks(np.arange(0, MONTHS+1, 2))\n",
    "    plt.xlabel('Time (Months)')\n",
    "    plt.ylabel('Total Article Views')\n",
    "    \n",
    "scatter_plot_base_figure()\n",
    "    \n",
    "for article in set(df.article):\n",
    "    y = df.loc[(df.article == article), 'views']\n",
    "    plt.scatter(range(1, MONTHS+1), y, label=article)"
   ]
  },
  {
   "cell_type": "markdown",
   "metadata": {},
   "source": [
    "We can clearly see there are some outliers: we have to identify and remove them."
   ]
  },
  {
   "cell_type": "code",
   "execution_count": 10,
   "metadata": {
    "scrolled": true
   },
   "outputs": [
    {
     "data": {
      "text/html": [
       "<div>\n",
       "<style scoped>\n",
       "    .dataframe tbody tr th:only-of-type {\n",
       "        vertical-align: middle;\n",
       "    }\n",
       "\n",
       "    .dataframe tbody tr th {\n",
       "        vertical-align: top;\n",
       "    }\n",
       "\n",
       "    .dataframe thead th {\n",
       "        text-align: right;\n",
       "    }\n",
       "</style>\n",
       "<table border=\"1\" class=\"dataframe\">\n",
       "  <thead>\n",
       "    <tr style=\"text-align: right;\">\n",
       "      <th></th>\n",
       "      <th>article</th>\n",
       "      <th>timestamp</th>\n",
       "      <th>views</th>\n",
       "      <th>rating</th>\n",
       "    </tr>\n",
       "  </thead>\n",
       "  <tbody>\n",
       "    <tr>\n",
       "      <th>1891</th>\n",
       "      <td>Europäische_Union</td>\n",
       "      <td>2016-06-01</td>\n",
       "      <td>388199</td>\n",
       "      <td>1.83</td>\n",
       "    </tr>\n",
       "    <tr>\n",
       "      <th>2548</th>\n",
       "      <td>Island</td>\n",
       "      <td>2016-06-01</td>\n",
       "      <td>1577344</td>\n",
       "      <td>1.38</td>\n",
       "    </tr>\n",
       "    <tr>\n",
       "      <th>2549</th>\n",
       "      <td>Island</td>\n",
       "      <td>2016-07-01</td>\n",
       "      <td>669120</td>\n",
       "      <td>1.38</td>\n",
       "    </tr>\n",
       "  </tbody>\n",
       "</table>\n",
       "</div>"
      ],
      "text/plain": [
       "                article  timestamp    views  rating\n",
       "1891  Europäische_Union 2016-06-01   388199    1.83\n",
       "2548             Island 2016-06-01  1577344    1.38\n",
       "2549             Island 2016-07-01   669120    1.38"
      ]
     },
     "execution_count": 10,
     "metadata": {},
     "output_type": "execute_result"
    }
   ],
   "source": [
    "df[df['views'] > 0.3e6]"
   ]
  },
  {
   "cell_type": "code",
   "execution_count": 11,
   "metadata": {
    "scrolled": true
   },
   "outputs": [
    {
     "data": {
      "text/plain": [
       "<matplotlib.legend.Legend at 0x7fe7bb6ec220>"
      ]
     },
     "execution_count": 11,
     "metadata": {},
     "output_type": "execute_result"
    },
    {
     "data": {
      "image/png": "[encoded data removed]",
      "text/plain": [
       "<Figure size 1008x576 with 1 Axes>"
      ]
     },
     "metadata": {
      "needs_background": "light"
     },
     "output_type": "display_data"
    }
   ],
   "source": [
    "scatter_plot_base_figure()\n",
    "\n",
    "plt.scatter(range(1, MONTHS+1), df.loc[(df.article == 'Island'), 'views'], label='Island', color='darkred')\n",
    "plt.scatter(range(1, MONTHS+1), df.loc[(df.article == 'Europäische_Union'), 'views'], label='Europäische_Union', color='gold')\n",
    "plt.legend()"
   ]
  },
  {
   "cell_type": "code",
   "execution_count": 19,
   "metadata": {
    "scrolled": true
   },
   "outputs": [
    {
     "name": "stdout",
     "output_type": "stream",
     "text": [
      "Data contains 93 articles and 28 monthly pageview counts\n"
     ]
    },
    {
     "data": {
      "image/png": "[encoded data removed]",
      "text/plain": [
       "<Figure size 1008x576 with 1 Axes>"
      ]
     },
     "metadata": {
      "needs_background": "light"
     },
     "output_type": "display_data"
    }
   ],
   "source": [
    "df = df.loc[(df.article != 'Island') & (df.article != 'Europäische_Union')]\n",
    "monthly_pv = to_monthly_pv(df)\n",
    "\n",
    "scatter_plot_base_figure()\n",
    "    \n",
    "for article in set(df.article):\n",
    "    y = df.loc[(df.article == article), 'views']\n",
    "    plt.scatter(range(1, MONTHS+1), y, label=article)"
   ]
  },
  {
   "cell_type": "markdown",
   "metadata": {},
   "source": [
    "We see that two articles, namely about the European Union and Iceland, are strong outliers inside our dataset. There are very logical explanations for this:\n",
    "- Iceland stands out in June and July 2016 because of their results during the Football World Cup of 2016\n",
    "- The EU stands out in June 2016 because of the Brexit vote happening the same month\n",
    "\n",
    "In order to preserve the validity of our regressions later on, we remove both articles from the dataset."
   ]
  },
  {
   "cell_type": "markdown",
   "metadata": {},
   "source": [
    "## Separating articles by privacy rating\n",
    "\n",
    "Now that outliers have been removed, we still have 93 articles of varying pertinence. We want to isolate those that are interesting with regard to information about personal privacy protection from others. In order to achieve that with a minimum of scientific validity, we used crowdsourcing.\n",
    "\n",
    "We asked a group of 13 subjects to rate every article from 1 (completely irrelevant) to 5 (very relevant) with regard to the following question: \"*Which of these Wikipedia articles would you most likely consult to inform yourself on the protection of your personal data online?*\". Mean article rating already appears in our DataFrame."
   ]
  },
  {
   "cell_type": "code",
   "execution_count": 20,
   "metadata": {},
   "outputs": [
    {
     "data": {
      "text/html": [
       "<div>\n",
       "<style scoped>\n",
       "    .dataframe tbody tr th:only-of-type {\n",
       "        vertical-align: middle;\n",
       "    }\n",
       "\n",
       "    .dataframe tbody tr th {\n",
       "        vertical-align: top;\n",
       "    }\n",
       "\n",
       "    .dataframe thead th {\n",
       "        text-align: right;\n",
       "    }\n",
       "</style>\n",
       "<table border=\"1\" class=\"dataframe\">\n",
       "  <thead>\n",
       "    <tr style=\"text-align: right;\">\n",
       "      <th></th>\n",
       "      <th>article</th>\n",
       "      <th>timestamp</th>\n",
       "      <th>views</th>\n",
       "      <th>rating</th>\n",
       "    </tr>\n",
       "  </thead>\n",
       "  <tbody>\n",
       "    <tr>\n",
       "      <th>1452</th>\n",
       "      <td>Cloud_Computing</td>\n",
       "      <td>2016-07-01</td>\n",
       "      <td>20000</td>\n",
       "      <td>2.33</td>\n",
       "    </tr>\n",
       "    <tr>\n",
       "      <th>352</th>\n",
       "      <td>Arbeitnehmerdatenschutz</td>\n",
       "      <td>2016-11-01</td>\n",
       "      <td>1571</td>\n",
       "      <td>3.54</td>\n",
       "    </tr>\n",
       "    <tr>\n",
       "      <th>2119</th>\n",
       "      <td>Siri_(Software)</td>\n",
       "      <td>2016-10-01</td>\n",
       "      <td>11710</td>\n",
       "      <td>1.67</td>\n",
       "    </tr>\n",
       "    <tr>\n",
       "      <th>623</th>\n",
       "      <td>European_Digital_Rights</td>\n",
       "      <td>2017-04-01</td>\n",
       "      <td>49</td>\n",
       "      <td>3.08</td>\n",
       "    </tr>\n",
       "    <tr>\n",
       "      <th>774</th>\n",
       "      <td>Europarecht</td>\n",
       "      <td>2015-11-01</td>\n",
       "      <td>5974</td>\n",
       "      <td>2.83</td>\n",
       "    </tr>\n",
       "  </tbody>\n",
       "</table>\n",
       "</div>"
      ],
      "text/plain": [
       "                      article  timestamp  views  rating\n",
       "1452          Cloud_Computing 2016-07-01  20000    2.33\n",
       "352   Arbeitnehmerdatenschutz 2016-11-01   1571    3.54\n",
       "2119          Siri_(Software) 2016-10-01  11710    1.67\n",
       "623   European_Digital_Rights 2017-04-01     49    3.08\n",
       "774               Europarecht 2015-11-01   5974    2.83"
      ]
     },
     "execution_count": 20,
     "metadata": {},
     "output_type": "execute_result"
    }
   ],
   "source": [
    "df.sample(5)"
   ]
  },
  {
   "cell_type": "markdown",
   "metadata": {},
   "source": [
    "For our study, we will thus separate articles in two categories (articles belonging to none of the two being droped altogether):\n",
    "- Articles relevant for information on personnal privacy protection (\"*privacy-related articles*\" thereafter): rating >= 3.0\n",
    "- Articles related to GDPR but irrelevant for information on personnal privacy protection (\"*comparison articles*\" thereafter): rating <= 2.0"
   ]
  },
  {
   "cell_type": "code",
   "execution_count": 25,
   "metadata": {},
   "outputs": [
    {
     "name": "stdout",
     "output_type": "stream",
     "text": [
      "Data contains 22 articles and 28 monthly pageview counts\n",
      "Mean privacy rating for privacy-related articles: 3.55\n"
     ]
    }
   ],
   "source": [
    "privacy = df[df['rating'] >= 3.0]\n",
    "privacy_monthly_pv = to_monthly_pv(privacy)\n",
    "print(\"Mean privacy rating for privacy-related articles: {:.2f}\".format(privacy['rating'].mean()))"
   ]
  },
  {
   "cell_type": "code",
   "execution_count": 26,
   "metadata": {
    "scrolled": true
   },
   "outputs": [
    {
     "name": "stdout",
     "output_type": "stream",
     "text": [
      "Data contains 38 articles and 28 monthly pageview counts\n",
      "Mean privacy rating for comparison articles: 1.60\n"
     ]
    }
   ],
   "source": [
    "comparison = df[df['rating'] <= 2.0]\n",
    "comparison_monthly_pv = to_monthly_pv(comparison)\n",
    "print(\"Mean privacy rating for comparison articles: {:.2f}\".format(comparison['rating'].mean()))"
   ]
  },
  {
   "cell_type": "code",
   "execution_count": 13,
   "metadata": {},
   "outputs": [],
   "source": [
    "def sum_articles(df):\n",
    "    '''Group the viewcount per month & keep only date and views columns\n",
    "    '''\n",
    "    # Group per month\n",
    "    montly_df = df.copy()\n",
    "    montly_df = montly_df.groupby('timestamp').sum()\n",
    "    # Change the index from datetime to integer\n",
    "    dates = np.arange(1, montly_df.shape[0] + 1)\n",
    "    montly_df.index = dates\n",
    "    return montly_df"
   ]
  },
  {
   "cell_type": "code",
   "execution_count": 14,
   "metadata": {},
   "outputs": [
    {
     "data": {
      "image/png": "[encoded data removed]",
      "text/plain": [
       "<Figure size 1080x576 with 1 Axes>"
      ]
     },
     "metadata": {
      "needs_background": "light"
     },
     "output_type": "display_data"
    }
   ],
   "source": [
    "def scatter_views(date, views, colors, labels, y_label, y_ticks, intervention_month):\n",
    "    \n",
    "    fig = plt.figure(figsize=(15,8))\n",
    "    ax = plt.axes()\n",
    "\n",
    "    for i in range(len(views)):\n",
    "        plt.scatter(date, views[i], s=100, c=colors[i], label=labels[i])\n",
    "\n",
    "    # Line to indicate mid-june 2013\n",
    "    plt.axvline(intervention_month+0.5, color='black')\n",
    "    plt.text(intervention_month+0.7, np.array(views).max(), \"GDPR law\", color='black')\n",
    "    \n",
    "    # Properties of the plot\n",
    "    plt.xlim((0,len(date)+1))\n",
    "    plt.xticks(np.arange(0, len(date)+1, 2))\n",
    "    plt.yticks(y_ticks)\n",
    "    plt.grid(axis='y')\n",
    "    plt.xlabel('Time (Months)', fontsize=12)\n",
    "    plt.ylabel(y_label, fontsize=12)\n",
    "    plt.legend(loc='lower left', bbox_to_anchor=(0, -0.25), ncol=2)\n",
    "    \n",
    "    return ax\n",
    "\n",
    "def perform_regression_Lagarde(date, views, intervention_month, display_values=False):\n",
    "    n = len(date)\n",
    "\n",
    "    # define feature matrix X    \n",
    "    x_time = date\n",
    "    x_intervention = np.zeros(n)\n",
    "    x_intervention[intervention_month:] = 1\n",
    "    x_postslope = np.concatenate((np.zeros(intervention_month), np.arange(1, n-intervention_month+1)))\n",
    "\n",
    "    X = np.array((np.ones(n), x_time, x_intervention, x_postslope)).T\n",
    "    # Recall: ones*beta_0, x_time*beta_1, x_intervention*beta_2, x_postslope*beta_3\n",
    "\n",
    "    # define target vector y \n",
    "    y = np.array(views)\n",
    "    \n",
    "    if display_values:\n",
    "        a = pd.DataFrame({'y (views)':views, 'ones':np.ones(n), 'time':x_time, 'intervention':x_intervention, 'postslope':x_postslope})\n",
    "        display(a)\n",
    "    \n",
    "    # create linear regression object and fit\n",
    "    model = linear_model.LinearRegression(fit_intercept=False)\n",
    "    model.fit(X, y)\n",
    "    \n",
    "    return model.predict(X), model.coef_\n",
    "\n",
    "def plot_fig_3(df, columns, y_ticks, intervention_month):\n",
    "       \n",
    "    labels = columns\n",
    "    \n",
    "    x = df.index\n",
    "    colors = ['black']\n",
    "    labels = ['Total Article Views (By Month)', 'Trend Pre-GDPR', 'Trend Post-GDPR']\n",
    "    y_label = 'Total Views'\n",
    "    scatter_views(x, np.array(df[columns]).T, colors, [labels[0]], y_label, y_ticks, intervention_month)\n",
    "\n",
    "    for col in columns:\n",
    "        y = df[col]\n",
    "        prediction, coef = perform_regression_Lagarde(x, y, intervention_month, False)\n",
    "\n",
    "        plt.plot(df.index[:intervention_month], prediction[:intervention_month], label=labels[1], color='black', linewidth=5)\n",
    "        plt.plot(df.index[intervention_month:], prediction[intervention_month:], label=labels[1], color='grey', linewidth=5)\n",
    "\n",
    "    plt.legend(loc='lower left', bbox_to_anchor=(0, -0.25), ncol=2)\n",
    "\n",
    "intervention_month = 10\n",
    "y_ticks = None\n",
    "\n",
    "df_sum = sum_articles(df)\n",
    "plot_fig_3(df_sum, ['views'], y_ticks, intervention_month)\n",
    "plt.title('Pageview counts for privacy-related Wikipedia articles')\n",
    "plt.show()"
   ]
  },
  {
   "cell_type": "markdown",
   "metadata": {},
   "source": [
    "## Find and remove outliers"
   ]
  },
  {
   "cell_type": "code",
   "execution_count": null,
   "metadata": {
    "scrolled": false
   },
   "outputs": [],
   "source": []
  },
  {
   "cell_type": "code",
   "execution_count": null,
   "metadata": {},
   "outputs": [],
   "source": []
  },
  {
   "cell_type": "code",
   "execution_count": 15,
   "metadata": {},
   "outputs": [
    {
     "ename": "NameError",
     "evalue": "name 'n' is not defined",
     "output_type": "error",
     "traceback": [
      "\u001b[0;31m---------------------------------------------------------------------------\u001b[0m",
      "\u001b[0;31mNameError\u001b[0m                                 Traceback (most recent call last)",
      "\u001b[0;32m<ipython-input-15-7e4092775669>\u001b[0m in \u001b[0;36m<module>\u001b[0;34m\u001b[0m\n\u001b[1;32m      1\u001b[0m \u001b[0my\u001b[0m \u001b[0;34m=\u001b[0m \u001b[0mdf\u001b[0m\u001b[0;34m.\u001b[0m\u001b[0mloc\u001b[0m\u001b[0;34m[\u001b[0m\u001b[0;34m(\u001b[0m\u001b[0mdf\u001b[0m\u001b[0;34m.\u001b[0m\u001b[0marticle\u001b[0m \u001b[0;34m==\u001b[0m \u001b[0;34m'Island'\u001b[0m\u001b[0;34m)\u001b[0m\u001b[0;34m,\u001b[0m \u001b[0;34m'views'\u001b[0m\u001b[0;34m]\u001b[0m\u001b[0;34m\u001b[0m\u001b[0;34m\u001b[0m\u001b[0m\n\u001b[0;32m----> 2\u001b[0;31m \u001b[0mplt\u001b[0m\u001b[0;34m.\u001b[0m\u001b[0mscatter\u001b[0m\u001b[0;34m(\u001b[0m\u001b[0mrange\u001b[0m\u001b[0;34m(\u001b[0m\u001b[0;36m1\u001b[0m\u001b[0;34m,\u001b[0m \u001b[0mn\u001b[0m\u001b[0;34m+\u001b[0m\u001b[0;36m1\u001b[0m\u001b[0;34m)\u001b[0m\u001b[0;34m,\u001b[0m \u001b[0my\u001b[0m\u001b[0;34m)\u001b[0m\u001b[0;34m\u001b[0m\u001b[0;34m\u001b[0m\u001b[0m\n\u001b[0m\u001b[1;32m      3\u001b[0m \u001b[0mplt\u001b[0m\u001b[0;34m.\u001b[0m\u001b[0mtitle\u001b[0m\u001b[0;34m(\u001b[0m\u001b[0;34m'Pageviews for the article \"Island\"'\u001b[0m\u001b[0;34m)\u001b[0m\u001b[0;34m\u001b[0m\u001b[0;34m\u001b[0m\u001b[0m\n\u001b[1;32m      4\u001b[0m \u001b[0mplt\u001b[0m\u001b[0;34m.\u001b[0m\u001b[0mxlabel\u001b[0m\u001b[0;34m(\u001b[0m\u001b[0;34m'Time (Months)'\u001b[0m\u001b[0;34m)\u001b[0m\u001b[0;34m\u001b[0m\u001b[0;34m\u001b[0m\u001b[0m\n\u001b[1;32m      5\u001b[0m \u001b[0mplt\u001b[0m\u001b[0;34m.\u001b[0m\u001b[0mylabel\u001b[0m\u001b[0;34m(\u001b[0m\u001b[0;34m'Total Views for article Island'\u001b[0m\u001b[0;34m)\u001b[0m\u001b[0;34m\u001b[0m\u001b[0;34m\u001b[0m\u001b[0m\n",
      "\u001b[0;31mNameError\u001b[0m: name 'n' is not defined"
     ]
    }
   ],
   "source": [
    "y = df.loc[(df.article == 'Island'), 'views']\n",
    "plt.scatter(range(1, n+1), y)\n",
    "plt.title('Pageviews for the article \"Island\"')\n",
    "plt.xlabel('Time (Months)')\n",
    "plt.ylabel('Total Views for article Island')\n",
    "plt.show()"
   ]
  },
  {
   "cell_type": "code",
   "execution_count": null,
   "metadata": {},
   "outputs": [],
   "source": [
    "y = df.loc[(df.article == 'Europäische_Union'), 'views']\n",
    "plt.scatter(range(1, n+1), y)\n",
    "plt.title('Pageviews for the article \"Europäische_Union\"')\n",
    "plt.xlabel('Time (Months)')\n",
    "plt.ylabel('Total Views for article Europäische_Union')\n",
    "plt.show()"
   ]
  },
  {
   "cell_type": "code",
   "execution_count": null,
   "metadata": {},
   "outputs": [],
   "source": [
    "# Remove the outliers and re plot\n",
    "\n",
    "df = df.loc[(df.article != 'Island') & (df.article != 'Europäische_Union')]\n",
    "df_sum = sum_articles(df)\n",
    "\n",
    "plot_fig_3(df_sum, ['views'], y_ticks, intervention_month)"
   ]
  },
  {
   "cell_type": "markdown",
   "metadata": {},
   "source": [
    "## Control group: ratings < 2"
   ]
  },
  {
   "cell_type": "code",
   "execution_count": null,
   "metadata": {},
   "outputs": [],
   "source": [
    "df_best = df_no_outlier.loc[df_no_outlier.rating >= 3].drop(['rating'], axis=1)\n",
    "df_control = df_no_outlier.loc[df_no_outlier.rating < 2].drop(['rating'], axis=1)"
   ]
  },
  {
   "cell_type": "code",
   "execution_count": null,
   "metadata": {},
   "outputs": [],
   "source": [
    "df_best_monthly = sum_articles(df_best)\n",
    "df_control_monthly = sum_articles(df_control)\n",
    "\n",
    "# Merge them into one single dataframe\n",
    "df_all = pd.DataFrame({'best_views':df_best_monthly.views, 'control_views':df_control_monthly.views}, index=df_best_monthly.index)\n",
    "df_all.head()"
   ]
  },
  {
   "cell_type": "code",
   "execution_count": null,
   "metadata": {},
   "outputs": [],
   "source": [
    "def plot_fig_4A(data, colors, labels, intervention_month):\n",
    "    \n",
    "    # Base plot with points\n",
    "    y_label = 'Total Views (All Articles)'\n",
    "    y_ticks = np.arange(200000, 1400000, 200000)\n",
    "    scatter_views(data.index, np.array(data).T, colors[:,0], labels[:,0], y_label, y_ticks, intervention_month)\n",
    "\n",
    "    for i, col in enumerate(data.columns):\n",
    "        # Plot trends with 95% CI\n",
    "        sns.regplot(x=data.index[:intervention_month], y=data[col][:intervention_month], ci=95, scatter=False, color=colors[i][1], label=labels[i][1], line_kws={'linewidth':2.5})\n",
    "        sns.regplot(x=data.index[intervention_month:], y=data[col][intervention_month:], ci=95, scatter=False, color=colors[i][2], label=labels[i][2], line_kws={'linewidth':2.5})\n",
    "\n",
    "    plt.xlabel('Time (Months)', fontsize=12)\n",
    "    plt.ylabel(y_label, fontsize=12)\n",
    "    \n",
    "    plt.title('Terrorism Articles Study Group vs. Domestic Security Comparator Group', fontsize=16)\n",
    "    legend = plt.legend(loc='lower left', bbox_to_anchor=(0, -0.25), ncol=2)\n",
    "    plt.show()\n",
    "\n",
    "colors = np.array([['darkblue', 'darkblue', 'slateblue'], ['darkred', 'darkred', 'indianred']])\n",
    "labels = np.array([['Privacy-related Articles', 'Privacy Articles Trend Pre-GDPR, with 95% Confidence Interval', 'Privacy Articles Trend Post-GDPR, with 95% Confidence Interval'], ['Control Articles', 'Control Articles Trend Pre-GDPR, with 95% Confidence Interval', 'Control Articles Post-GDPR, with 95% Confidence Interval']])\n",
    "\n",
    "plot_fig_4A(df_all, colors, labels, intervention_month)\n",
    "plt.show()"
   ]
  },
  {
   "cell_type": "markdown",
   "metadata": {},
   "source": [
    "## Control group: most popular (most viewed) Wikipedia in 2015, 2016, and 2017\n",
    "\n",
    "Like in the study, a true control group is not possible, because privacy-related issues potentially affects everyone. Comparator groups were included in the analysis:\n",
    "- comparator including security-related Wikipedia articles\n",
    "- comparator including the most popular (most viewed) Wikipedia in 2015, 2016, and 2017 (the years included in the our study period)\n",
    "\n",
    "To get the most viewed articles, the paper used the Wikimedia Tool Lab’s “Wikitrend” tool: https://tools.wmflabs.org/wikitrends. Since this link lead nowhere, we used this tool: https://pageviews.toolforge.org/topviews/. It seems quite similar.\n",
    "\n",
    "Note that the 2015 top articles are based only on the period July-December because the Pageviews API Pageviews doesn't have data before 01.07.2015."
   ]
  },
  {
   "cell_type": "code",
   "execution_count": null,
   "metadata": {},
   "outputs": [],
   "source": [
    "df_2015 = read_json_file('data/topviews-2015.json')\n",
    "df_2016 = read_json_file('data/topviews-2016.json')\n",
    "df_2017 = read_json_file('data/topviews-2017.json')\n",
    "\n",
    "control_df = sum_articles(df_2015)\n",
    "control_df = control_df.append(sum_articles(df_2016), ignore_index=True)\n",
    "control_df = control_df.append(sum_articles(df_2017), ignore_index=True)\n",
    "control_df.head()"
   ]
  },
  {
   "cell_type": "code",
   "execution_count": null,
   "metadata": {},
   "outputs": [],
   "source": [
    "plot_fig_3(control_df, ['views'], y_ticks, intervention_month)\n",
    "plt.title('Pageview counts for control Wikipedia articles')\n",
    "plt.show()"
   ]
  },
  {
   "cell_type": "code",
   "execution_count": null,
   "metadata": {},
   "outputs": [],
   "source": []
  }
 ],
 "metadata": {
  "kernelspec": {
   "display_name": "Python [conda env:ada] *",
   "language": "python",
   "name": "conda-env-ada-py"
  },
  "language_info": {
   "codemirror_mode": {
    "name": "ipython",
    "version": 3
   },
   "file_extension": ".py",
   "mimetype": "text/x-python",
   "name": "python",
   "nbconvert_exporter": "python",
   "pygments_lexer": "ipython3",
   "version": "3.8.5"
  }
 },
 "nbformat": 4,
 "nbformat_minor": 4
}
